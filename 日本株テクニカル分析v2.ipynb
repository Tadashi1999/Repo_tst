{
  "nbformat": 4,
  "nbformat_minor": 0,
  "metadata": {
    "colab": {
      "name": "日本株テクニカル分析v2.ipynb ",
      "provenance": [],
      "collapsed_sections": [],
      "authorship_tag": "ABX9TyOLXfVZx1ehVqctMcRhRxzw",
      "include_colab_link": true
    },
    "kernelspec": {
      "name": "python3",
      "display_name": "Python 3"
    }
  },
  "cells": [
    {
      "cell_type": "markdown",
      "metadata": {
        "id": "view-in-github",
        "colab_type": "text"
      },
      "source": [
        "<a href=\"https://colab.research.google.com/github/Tadashi1999/Repo_tst/blob/master/%E6%97%A5%E6%9C%AC%E6%A0%AA%E3%83%86%E3%82%AF%E3%83%8B%E3%82%AB%E3%83%AB%E5%88%86%E6%9E%90v2.ipynb\" target=\"_parent\"><img src=\"https://colab.research.google.com/assets/colab-badge.svg\" alt=\"Open In Colab\"/></a>"
      ]
    },
    {
      "cell_type": "code",
      "metadata": {
        "id": "qfSZWmWmOGiI"
      },
      "source": [
        ""
      ],
      "execution_count": null,
      "outputs": []
    },
    {
      "cell_type": "code",
      "metadata": {
        "id": "75ax8MZeNEiz"
      },
      "source": [
        "#Ta-Libのインストール\n",
        "! wget http://prdownloads.sourceforge.net/ta-lib/ta-lib-0.4.0-src.tar.gz\n",
        "! tar -xzvf ta-lib-0.4.0-src.tar.gz\n",
        "% cd ta-lib\n",
        "! ./configure --prefix=/usr\n",
        "! make\n",
        "! make install\n",
        "! pip install Ta-lib\n",
        "#import Talib as ta"
      ],
      "execution_count": null,
      "outputs": []
    },
    {
      "cell_type": "code",
      "metadata": {
        "id": "kvVa_kuAOIZU"
      },
      "source": [
        "import pandas as pd\n",
        "import numpy as np\n",
        "import talib as ta\n",
        "from pandas_datareader import data\n",
        "import matplotlib.pyplot as plt\n",
        "%matplotlib inline\n",
        "import warnings\n",
        "warnings.simplefilter('ignore')"
      ],
      "execution_count": null,
      "outputs": []
    },
    {
      "cell_type": "code",
      "metadata": {
        "id": "vKELJyNyI8jD"
      },
      "source": [
        "start='2019-07-01'\n",
        "end='2020-07-01'\n",
        "df=data.DataReader('6502.JP','stooq')\n",
        "\n"
      ],
      "execution_count": null,
      "outputs": []
    },
    {
      "cell_type": "code",
      "metadata": {
        "id": "jAHrJI-VTIg0"
      },
      "source": [
        "df.head(10)"
      ],
      "execution_count": null,
      "outputs": []
    },
    {
      "cell_type": "code",
      "metadata": {
        "id": "C7fUuuNIIlO4"
      },
      "source": [
        "#日本株を読み込んで移動平均,出来高、MACD,RSI,ボリバン\n",
        "#関数\n",
        "def company_stock(start,end,company_code):\n",
        "  df=data.DataReader(company_code,'stooq')\n",
        "  df=df[(df.index >=start) & (df.index<=end)]\n",
        "\n",
        "  #Ta-Libのインストール\n",
        "  import talib as ta\n",
        "\n",
        "  date=df.index\n",
        "  price=df['Close']\n",
        "  close=df['Close']\n",
        "\n",
        "  span01=5\n",
        "  span02=25\n",
        "  span03=50\n",
        "\n",
        "  df['sma01']=price.rolling(window=span01).mean()\n",
        "  df['sma02']=price.rolling(window=span02).mean()\n",
        "  df['sma03']=price.rolling(window=span03).mean()\n",
        "\n",
        "  plt.figure(figsize=(20,10))\n",
        "  plt.subplot(5,1,1)\n",
        "\n",
        "  plt.plot(date,price,label='Close',color='#99b898')\n",
        "  plt.plot(date,df['sma01'],label='sma01',color='#e84a5f')\n",
        "  plt.plot(date,df['sma02'],label='sma02',color='#ff847c')\n",
        "  plt.plot(date,df['sma03'],label='sma03',color='#feceab')\n",
        "  plt.legend()\n",
        "\n",
        "  plt.subplot(5,1,2)\n",
        "  plt.bar(date,df['Volume'],label='Volume',color='gray')\n",
        "  plt.legend()\n",
        "\n",
        "  #MACD追加\n",
        "  df['macd'],df['macdsignal'],df['macdhist']=ta.MACD(close, fastperiod=12, slowperiod=26, signalperiod=9)\n",
        "  plt.subplot(5,1,3)\n",
        "  plt.fill_between(date,df['macdhist'],color='gray',alpha=0.5,label='MACD_hist')\n",
        "  plt.hlines(0,start,end,'gray',linestyles='dashed')\n",
        "  lt.legend()\n",
        " \n",
        "  #RSI追加\n",
        "  df['RSI'] =ta.RSI(close,timeperiod=span02)\n",
        "  plt.subplot(5,1,4)\n",
        "  plt.plot(date,df['RSI'],label='RSI',color='black')\n",
        "  plｌylim(0,100)\n",
        "  plt.hlines([30,50,70],start,end,'black',linestyles='dashed')\n",
        "  plt.legend()\n",
        "\n",
        "  #ボリバン追加\n",
        "  plt.subplot(5,1,5)\n",
        "  df['upper'],df['middle'],df['lower']=ta.BBANDS(close,timeperiod=span02,nbdevup=2,nbdevdn=2,matype=0)\n",
        "  plt.plot(date,close,label='Close',color='#99b898')\n",
        "  plt.fill_between(date,df['upper'],df['lower'],color='gray',alpha=0.3)\n",
        "  plt.legend()\n",
        "\n",
        "  \n",
        "\n",
        "\n"
      ],
      "execution_count": null,
      "outputs": []
    },
    {
      "cell_type": "code",
      "metadata": {
        "id": "YFIvZkm-8F-H"
      },
      "source": [
        "company_stock('2020-04-02','2020-10-16','4563.JP')"
      ],
      "execution_count": null,
      "outputs": []
    }
  ]
}