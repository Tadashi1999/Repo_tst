{
  "nbformat": 4,
  "nbformat_minor": 0,
  "metadata": {
    "colab": {
      "name": "ローソク足+ボリバン＋出来高.ipynb",
      "provenance": [],
      "collapsed_sections": [],
      "authorship_tag": "ABX9TyNxyfO9iBEES7ancphnaB1P",
      "include_colab_link": true
    },
    "kernelspec": {
      "name": "python3",
      "display_name": "Python 3"
    }
  },
  "cells": [
    {
      "cell_type": "markdown",
      "metadata": {
        "id": "view-in-github",
        "colab_type": "text"
      },
      "source": [
        "<a href=\"https://colab.research.google.com/github/Tadashi1999/Repo_tst/blob/master/%E3%83%AD%E3%83%BC%E3%82%BD%E3%82%AF%E8%B6%B3%2B%E3%83%9C%E3%83%AA%E3%83%90%E3%83%B3%EF%BC%8B%E5%87%BA%E6%9D%A5%E9%AB%98.ipynb\" target=\"_parent\"><img src=\"https://colab.research.google.com/assets/colab-badge.svg\" alt=\"Open In Colab\"/></a>"
      ]
    },
    {
      "cell_type": "code",
      "metadata": {
        "id": "DFP7T0GXWLmz"
      },
      "source": [
        "#Google colab,Ta-lib,Plotlyを用いた株価テクニカルチャートの表示\n",
        "#akatak's blog,「PlotlyとTalibでテクニカルチャート分s系を描く」2019-11-23より、一部変更\n"
      ],
      "execution_count": null,
      "outputs": []
    },
    {
      "cell_type": "code",
      "metadata": {
        "id": "TEVRYxbRelHc"
      },
      "source": [
        "#Talibのインストール\n",
        "!wget http://prdownloads.sourceforge.net/talib/ta-lib-0.4.0-src.tar.gz\n",
        "!tar -xzvf ta-lib-0.4.0-src.tar.gz\n",
        "%cd ta-lib.dpkg.in\n",
        "!/configure --prefix=/usr\n",
        "!make\n",
        "!make install\n",
        "!pip install Ta-lib\n",
        "import talib as ta"
      ],
      "execution_count": null,
      "outputs": []
    },
    {
      "cell_type": "code",
      "metadata": {
        "id": "0Xoi_fMl82oz"
      },
      "source": [
        "#株価の取得方法\n",
        "import pandas as pd\n",
        "import pandas_datareader.data as web\n",
        "from datetime import datetime\n",
        "starts=datetime(2019,10,1)\n",
        "end=datetime(2020,10,28)\n",
        "df=web.DataReader('2395.jp','stooq',start,end)"
      ],
      "execution_count": null,
      "outputs": []
    },
    {
      "cell_type": "code",
      "metadata": {
        "id": "istdXIxnddW1"
      },
      "source": [
        "#複数のテクニカル分析\n",
        "#一般ライブラリのインストール\n",
        "import talib as ta\n",
        "import numpy as np\n",
        "import pandas as pd\n",
        "!pip install plotly --upgrade\n",
        "\n",
        "import plotly.offline as pyo\n",
        "#import chart_studio.plotly as py\n",
        "import plotly.graph_objects as go\n",
        "\n",
        "hnp=np.array(df['High']) #npアレイ形式に変換\n",
        "lnp=np.array(df['Low'])\n",
        "cnp=np.array(df['Close'])\n",
        "onp=np.array(df['Open'])\n",
        "c=df['Close'] #何故かMACDではこれで動作する\n",
        "\n",
        "\n",
        "#単純移動平均\n",
        "sma5=ta.SMA(c,timeperiod=5)\n",
        "sma20=ta.SMA(c,timeperiod=20)\n",
        "sma50=ta.SMA(c,timeperiod=50)\n",
        "\n",
        "#Plotlyでは DataFrameを使うので、以下を追加\n",
        "df['SMA5']=sma5\n",
        "df['SMA20']=sma20\n",
        "df['SMA50']=sma50\n",
        "\n",
        "#MACD\n",
        "macd,macd_sig,macd_hist=ta.MACD(c,fastperiod=5,slowperiod=10,signalperiod=9)\n",
        "df[\"MACD\"]=macd\n",
        "df[\"MACD_SIG\"]=macd_sig\n",
        "df[\"MACD_HIST\"]=macd_hist\n",
        "\n",
        "#ボリンジャーバンド\n",
        "u_band,m_band,l_band=ta.BBANDS(c,timeperiod=5,nbdevup=2,nbdevdn=2,matype=0)\n",
        "df['BBAND_U']=u_band\n",
        "df['BBAND_M']=m_band\n",
        "df['BBAND_L']=l_band\n",
        "\n",
        "#Plotlyでチャート\n",
        "layout={\n",
        "    'hight':1000,\n",
        "    'title':{'text':'銘柄名','x':0.5},\n",
        "    'titlefont':{'size':25},\n",
        "    'xaxis':{'title':\"\",'rangeslider':{'visible':False}},\n",
        "    'yaxis':{'domain':[.55,1],'title':\"株価（円)\",'side':\"left\",'tickformat':','},\n",
        "    'yaxis2':{'domain':[.45,.55],'title':\"MACD\",'side':\"right\"},\n",
        "}#akatak'sのまま\n",
        "\n",
        "#ローソク足、ボリンジャーバンド、移動平均、MACD、出来高\n",
        "trace1=go.Candlestick(x=df.index,open=onp,high=hnp,low=lnp,close=cnp,yaxis=\"y2\",name=\"銘柄名\")\n",
        "#trace2=go.Scatter(yaxis=\"y2\",x=df.index,y=df[\"SMA5\"],name='SMA5',line=dict(color='Black',width=0.5))\n",
        "#trace3=go.Scatter(yaxis=\"y2\",x=df.index,y=df[\"SMA20\"],name='SMA20',line=dict(color='Black',width=0.5))\n",
        "#trace4=go.Scatter(yaxis=\"y2\",x=df.index,y=df[\"SMA50\"],name='SMA50',line=dict(color='darkblue',width=1))\n",
        "trace5=go.Scatter(yaxis=\"y2\",x=df.index,y=df[\"MACD\"],name='MACD',line=dict(color='blue',width=1.5))\n",
        "trace6=go.Scatter(yaxis=\"y2\",x=df.index,y=df[\"MACD_SIG\"],name='MACD_SIG',line=dict(color='red',width=1))\n",
        "trace7=go.Bar(yaxis=\"y2\",x=df.index,y=np.array(df['Volume'])/1000000,name=\"出来高\")#高さ調整\n",
        "trace8=go.Scatter(yaxis=\"y2\",x=df.index,y=df[\"BBAND_U\"],name=\"Bバンド＋2σ\",line=dict(color='darkblue',width=1))\n",
        "trace9=go.Scatter(yaxis=\"y2\",x=df.index,y=df[\"BBAND_M\"],name=\"Bバンドー\",line=dict(color='black',width=0.5))\n",
        "trace10=go.Scatter(yaxis=\"y2\",x=df.index,y=df['BBAND_L'],name=\"Bバンド-2σ\",line=dict(color='red',width=1))\n",
        "data=[trace1,trace8,trace9,trace10]\n",
        "go.Figure(data).show()     #Google ColabではこれでOK\n",
        "\n",
        "#出来高、MACDのみ表示\n",
        "fig=go.Figure()\n",
        "fig.add_trace(go.Bar(yaxis=\"y2\",x=df.index,y=np.array(df['Volume'])/100000,name=\"出来高\"))\n",
        "fig.add_trace(go.Scatter(yaxis=\"y2\",x=df.index,y=df[\"MACD\"],name=\"MACD\"))\n",
        "fig.add_trace(go.Scatter(yaxis=\"y2\",x=df.index,y=df[\"MACD_SIG\"],name=\"MACD_SIG\"))\n",
        "\n",
        "#問題点　営業日のみの表記ができない"
      ],
      "execution_count": null,
      "outputs": []
    }
  ]
}