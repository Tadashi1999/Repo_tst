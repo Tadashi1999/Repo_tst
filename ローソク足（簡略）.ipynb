{
  "nbformat": 4,
  "nbformat_minor": 0,
  "metadata": {
    "colab": {
      "name": "ローソク足（簡略）.ipynb",
      "provenance": [],
      "authorship_tag": "ABX9TyM0XKcx4dN6+BYw3vaYb9dT",
      "include_colab_link": true
    },
    "kernelspec": {
      "name": "python3",
      "display_name": "Python 3"
    }
  },
  "cells": [
    {
      "cell_type": "markdown",
      "metadata": {
        "id": "view-in-github",
        "colab_type": "text"
      },
      "source": [
        "<a href=\"https://colab.research.google.com/github/Tadashi1999/Repo_tst/blob/master/%E3%83%AD%E3%83%BC%E3%82%BD%E3%82%AF%E8%B6%B3%EF%BC%88%E7%B0%A1%E7%95%A5%EF%BC%89.ipynb\" target=\"_parent\"><img src=\"https://colab.research.google.com/assets/colab-badge.svg\" alt=\"Open In Colab\"/></a>"
      ]
    },
    {
      "cell_type": "code",
      "metadata": {
        "id": "FG6cCTWuoIqS"
      },
      "source": [
        "#ローソク足チャート（簡略）\n",
        "!pip install pandas-datareader\n",
        "\n",
        "#pandas-datareaderによる株価の取得\n",
        "import pandas as pd\n",
        "import pandas_datareader as pdr\n",
        "pdr=pdr.stooq.StooqDailyReader(symbols='4563.jp',start='MAR-06-2020',end=\"OCT-26-2020\").read().sort_values(by='Date',ascending=True)\n",
        "df_t=pdr\n"
      ],
      "execution_count": null,
      "outputs": []
    },
    {
      "cell_type": "code",
      "metadata": {
        "id": "It4jHMWjiWv5"
      },
      "source": [
        "df_t.tail(20)"
      ],
      "execution_count": null,
      "outputs": []
    },
    {
      "cell_type": "code",
      "metadata": {
        "id": "McmuA4NMXNNJ"
      },
      "source": [
        "import numpy as np\n",
        "import plotly.graph_objects as go\n",
        "\n",
        "def plot_chart(df):\n",
        "  x=np.arange(df.shape[0])\n",
        "  interval=20\n",
        "  vals=np.arange(df.shape[0],step=interval)\n",
        "  labels=list(df[::interval].index)\n",
        "\n",
        "  fig=go.Figure(\n",
        "      data=[go.Candlestick(\n",
        "            x=x,\n",
        "            open=df['Open'],\n",
        "            high=df['High'],\n",
        "            low=df['Low'],\n",
        "            close=df['Close']),\n",
        "           ],\n",
        "      layout=go.Layout(\n",
        "            xaxis=dict(\n",
        "                tickvals=vals,\n",
        "                ticktext=labels,\n",
        "                tickangle=-45\n",
        "            ),\n",
        "      )\n",
        "  )\n",
        "  fig.show()\n",
        "plot_chart(df_t)  "
      ],
      "execution_count": 46,
      "outputs": []
    }
  ]
}